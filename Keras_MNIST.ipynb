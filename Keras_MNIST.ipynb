{
 "cells": [
  {
   "cell_type": "code",
   "execution_count": 1,
   "metadata": {},
   "outputs": [
    {
     "name": "stderr",
     "output_type": "stream",
     "text": [
      "Using TensorFlow backend.\n"
     ]
    },
    {
     "name": "stdout",
     "output_type": "stream",
     "text": [
      "WARNING:tensorflow:From E:\\Anaconda3\\envs\\python36ForKeras\\lib\\site-packages\\tensorflow\\python\\framework\\op_def_library.py:263: colocate_with (from tensorflow.python.framework.ops) is deprecated and will be removed in a future version.\n",
      "Instructions for updating:\n",
      "Colocations handled automatically by placer.\n",
      "WARNING:tensorflow:From E:\\Anaconda3\\envs\\python36ForKeras\\lib\\site-packages\\tensorflow\\python\\ops\\math_ops.py:3066: to_int32 (from tensorflow.python.ops.math_ops) is deprecated and will be removed in a future version.\n",
      "Instructions for updating:\n",
      "Use tf.cast instead.\n",
      "Train on 60000 samples, validate on 10000 samples\n",
      "Epoch 1/20\n",
      "60000/60000 [==============================] - 61s 1ms/step - loss: 1.0211 - acc: 0.7359 - val_loss: 0.3097 - val_acc: 0.9126\n",
      "Epoch 2/20\n",
      "60000/60000 [==============================] - 64s 1ms/step - loss: 0.2664 - acc: 0.9202 - val_loss: 0.1955 - val_acc: 0.9425\n",
      "Epoch 3/20\n",
      "60000/60000 [==============================] - 64s 1ms/step - loss: 0.1859 - acc: 0.9454 - val_loss: 0.1448 - val_acc: 0.9571\n",
      "Epoch 4/20\n",
      "60000/60000 [==============================] - 64s 1ms/step - loss: 0.1439 - acc: 0.9583 - val_loss: 0.1175 - val_acc: 0.9651\n",
      "Epoch 5/20\n",
      "60000/60000 [==============================] - 64s 1ms/step - loss: 0.1190 - acc: 0.9649 - val_loss: 0.0996 - val_acc: 0.9693\n",
      "Epoch 6/20\n",
      "60000/60000 [==============================] - 63s 1ms/step - loss: 0.1021 - acc: 0.9698 - val_loss: 0.0902 - val_acc: 0.9694\n",
      "Epoch 7/20\n",
      "60000/60000 [==============================] - 65s 1ms/step - loss: 0.0903 - acc: 0.9738 - val_loss: 0.0797 - val_acc: 0.9762\n",
      "Epoch 8/20\n",
      "60000/60000 [==============================] - 68s 1ms/step - loss: 0.0815 - acc: 0.9760 - val_loss: 0.0705 - val_acc: 0.9790\n",
      "Epoch 9/20\n",
      "60000/60000 [==============================] - 68s 1ms/step - loss: 0.0745 - acc: 0.9778 - val_loss: 0.0623 - val_acc: 0.9813\n",
      "Epoch 10/20\n",
      "60000/60000 [==============================] - 71s 1ms/step - loss: 0.0682 - acc: 0.9791 - val_loss: 0.0564 - val_acc: 0.9824\n",
      "Epoch 11/20\n",
      "60000/60000 [==============================] - 71s 1ms/step - loss: 0.0639 - acc: 0.9809 - val_loss: 0.0623 - val_acc: 0.9798\n",
      "Epoch 12/20\n",
      "60000/60000 [==============================] - 69s 1ms/step - loss: 0.0600 - acc: 0.9823 - val_loss: 0.0526 - val_acc: 0.9839\n",
      "Epoch 13/20\n",
      "60000/60000 [==============================] - 74s 1ms/step - loss: 0.0569 - acc: 0.9825 - val_loss: 0.0500 - val_acc: 0.9841\n",
      "Epoch 14/20\n",
      "60000/60000 [==============================] - 97s 2ms/step - loss: 0.0543 - acc: 0.9838 - val_loss: 0.0456 - val_acc: 0.9861\n",
      "Epoch 15/20\n",
      "60000/60000 [==============================] - 97s 2ms/step - loss: 0.0514 - acc: 0.9845 - val_loss: 0.0428 - val_acc: 0.9867\n",
      "Epoch 16/20\n",
      "60000/60000 [==============================] - 75s 1ms/step - loss: 0.0490 - acc: 0.9855 - val_loss: 0.0452 - val_acc: 0.9860\n",
      "Epoch 17/20\n",
      "60000/60000 [==============================] - 83s 1ms/step - loss: 0.0465 - acc: 0.9858 - val_loss: 0.0449 - val_acc: 0.9858\n",
      "Epoch 18/20\n",
      "60000/60000 [==============================] - 86s 1ms/step - loss: 0.0450 - acc: 0.9862 - val_loss: 0.0425 - val_acc: 0.9860\n",
      "Epoch 19/20\n",
      "60000/60000 [==============================] - 77s 1ms/step - loss: 0.0423 - acc: 0.9872 - val_loss: 0.0385 - val_acc: 0.9872\n",
      "Epoch 20/20\n",
      "60000/60000 [==============================] - 78s 1ms/step - loss: 0.0408 - acc: 0.9877 - val_loss: 0.0435 - val_acc: 0.9863\n"
     ]
    },
    {
     "data": {
      "image/png": "[encoded data removed]",
      "text/plain": [
       "<Figure size 432x288 with 1 Axes>"
      ]
     },
     "metadata": {},
     "output_type": "display_data"
    },
    {
     "data": {
      "image/png": "[encoded data removed]",
      "text/plain": [
       "<Figure size 432x288 with 1 Axes>"
      ]
     },
     "metadata": {},
     "output_type": "display_data"
    }
   ],
   "source": [
    "import keras\n",
    "from keras.datasets import mnist\n",
    "from keras.models import Sequential\n",
    "from keras.layers import Dense ,Flatten,Conv2D,MaxPooling2D\n",
    "from keras import backend as K\n",
    "import matplotlib.pyplot as plt\n",
    "\n",
    "num_classes=10\n",
    "img_rows,img_cols=28,28\n",
    "\n",
    "#trainX是60000x28x28的数组，trainY是每张图片对应的数字\n",
    "(trainX,trainY),(testX,testY)=mnist.load_data()\n",
    "\n",
    "#由于不同底层对输入要求不一样，根据图像编码格式的要求来设置输入层的格式\n",
    "if K.image_data_format()=='channels_first':\n",
    "    trainX=trainX.reshape(trainX.shape[0],1,img_rows,img_cols)\n",
    "    testX=testX.reshape(testX.shape[0],1,img_rows,img_cols)\n",
    "    #单通道，通道数在前\n",
    "    input_shape=(1,img_rows,img_cols)\n",
    "else:\n",
    "    trainX=trainX.reshape(trainX.shape[0],img_rows,img_cols,1)\n",
    "    testX=testX.reshape(testX.shape[0],img_rows,img_cols,1)\n",
    "    #单通道图片，通道数在后\n",
    "    input_shape=(img_rows,img_cols,1)\n",
    "\n",
    "#将图片像素值化为(0,1)之间\n",
    "trainX=trainX.astype('float32')\n",
    "testX=testX.astype('float32')\n",
    "trainX/=255.0\n",
    "testX/=255.0\n",
    "\n",
    "trainY=keras.utils.to_categorical(trainY,num_classes)\n",
    "testY=keras.utils.to_categorical(testY,num_classes)\n",
    "\n",
    "#构建网络，两个卷积、两个最大池化、两个全连接层\n",
    "model=Sequential()\n",
    "model.add(Conv2D(32,kernel_size=(5,5),activation='relu',input_shape=input_shape))\n",
    "model.add(MaxPooling2D(pool_size=(2,2)))\n",
    "model.add(Conv2D(64,kernel_size=(5,5),activation='relu'))\n",
    "model.add(MaxPooling2D(pool_size=(2,2)))\n",
    "model.add(Flatten())\n",
    "model.add(Dense(500,activation='relu'))\n",
    "model.add(Dense(num_classes,activation='softmax'))\n",
    "\n",
    "#指定模型损失函数(交叉熵损失函数)、优化器、评估原则\n",
    "model.compile(loss=keras.losses.categorical_crossentropy,optimizer=keras.optimizers.SGD(),metrics=['accuracy'])\n",
    "#训练模型\n",
    "history=model.fit(trainX,trainY,batch_size=128,epochs=20,validation_split=0.1,validation_data=(testX,testY))\n",
    "\n",
    "#绘制训练/验证的准确率值\n",
    "plt.plot(history.history['acc'])\n",
    "plt.plot(history.history['val_acc'])\n",
    "plt.title('Model accuracy')\n",
    "plt.ylabel('Accuracy')\n",
    "plt.xlabel('Epoch')\n",
    "plt.legend(['Train','Test'],loc='upper left')\n",
    "plt.show()\n",
    "\n",
    "#绘制训练/验证的损失值\n",
    "plt.plot(history.history['loss'])\n",
    "plt.plot(history.history['val_loss'])\n",
    "plt.title('Model loss')\n",
    "plt.ylabel('Loss')\n",
    "plt.xlabel('Epoch')\n",
    "plt.legend(['Train','Test'],loc='upper left')\n",
    "plt.show()\n",
    "\n",
    "\n",
    "\n",
    "\n",
    "\n",
    "#测试集上计算准确率\n",
    "# score=model.evaluate(testX,testY)\n",
    "# print('Test loss: ',score[0])\n",
    "# print('Test accuracy: ',score[1])\n",
    "\n",
    "\n",
    "\n"
   ]
  },
  {
   "cell_type": "code",
   "execution_count": null,
   "metadata": {},
   "outputs": [],
   "source": []
  },
  {
   "cell_type": "code",
   "execution_count": null,
   "metadata": {},
   "outputs": [],
   "source": []
  },
  {
   "cell_type": "code",
   "execution_count": null,
   "metadata": {},
   "outputs": [],
   "source": []
  }
 ],
 "metadata": {
  "kernelspec": {
   "display_name": "Python 3",
   "language": "python",
   "name": "python3"
  },
  "language_info": {
   "codemirror_mode": {
    "name": "ipython",
    "version": 3
   },
   "file_extension": ".py",
   "mimetype": "text/x-python",
   "name": "python",
   "nbconvert_exporter": "python",
   "pygments_lexer": "ipython3",
   "version": "3.7.0"
  }
 },
 "nbformat": 4,
 "nbformat_minor": 2
}
