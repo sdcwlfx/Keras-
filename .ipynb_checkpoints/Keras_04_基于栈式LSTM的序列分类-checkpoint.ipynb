{
 "cells": [
  {
   "attachments": {},
   "cell_type": "markdown",
   "metadata": {},
   "source": [
    "   在这个模型中，我们将 3 个 LSTM 层叠在一起，使模型能够学习更高层次的时间表示。前两个 LSTM 返回完整的输出序列，但最后一个只返回输出序列的最后一步，从而降低了时间维度（即将输入序列转换成单个向量）。"
   ]
  },
  {
   "cell_type": "code",
   "execution_count": 2,
   "metadata": {},
   "outputs": [
    {
     "name": "stdout",
     "output_type": "stream",
     "text": [
      "WARNING:tensorflow:From E:\\Anaconda3\\envs\\python36ForKeras\\lib\\site-packages\\tensorflow\\python\\framework\\op_def_library.py:263: colocate_with (from tensorflow.python.framework.ops) is deprecated and will be removed in a future version.\n",
      "Instructions for updating:\n",
      "Colocations handled automatically by placer.\n",
      "WARNING:tensorflow:From E:\\Anaconda3\\envs\\python36ForKeras\\lib\\site-packages\\tensorflow\\python\\ops\\math_ops.py:3066: to_int32 (from tensorflow.python.ops.math_ops) is deprecated and will be removed in a future version.\n",
      "Instructions for updating:\n",
      "Use tf.cast instead.\n",
      "Train on 1000 samples, validate on 100 samples\n",
      "Epoch 1/5\n",
      "1000/1000 [==============================] - 3s 3ms/step - loss: 11.5817 - acc: 0.0980 - val_loss: 11.2712 - val_acc: 0.0700\n",
      "Epoch 2/5\n",
      "1000/1000 [==============================] - 0s 321us/step - loss: 11.5804 - acc: 0.0920 - val_loss: 11.2698 - val_acc: 0.1000\n",
      "Epoch 3/5\n",
      "1000/1000 [==============================] - 0s 332us/step - loss: 11.5798 - acc: 0.0910 - val_loss: 11.2697 - val_acc: 0.0700\n",
      "Epoch 4/5\n",
      "1000/1000 [==============================] - 0s 335us/step - loss: 11.5792 - acc: 0.0910 - val_loss: 11.2704 - val_acc: 0.0900\n",
      "Epoch 5/5\n",
      "1000/1000 [==============================] - 0s 358us/step - loss: 11.5796 - acc: 0.1010 - val_loss: 11.2695 - val_acc: 0.1100\n",
      "100/100 [==============================] - 0s 90us/step\n",
      "Test loss:  11.2694587708\n",
      "Test accuracy:  0.110000000894\n"
     ]
    }
   ],
   "source": [
    "from keras.models import Sequential\n",
    "from keras.layers import LSTM,Dense\n",
    "import numpy as np\n",
    "\n",
    "data_dim=16\n",
    "time_steps=8\n",
    "num_classes=10\n",
    "\n",
    "\n",
    "\n",
    "#期望输入数据尺寸：（batch_size,time_steps,data_dim）\n",
    "model=Sequential()\n",
    "#返回维度为32的向量序列,第一层指定输入规格\n",
    "model.add(LSTM(32,return_sequences=True,input_shape=(time_steps,data_dim)))\n",
    "model.add(LSTM(32,return_sequences=True))\n",
    "#返回维度为32的单个向量\n",
    "model.add(LSTM(32))\n",
    "model.add(Dense(10,activation='softmax'))\n",
    "model.compile(loss='categorical_crossentropy',\n",
    "             optimizer='rmsprop',\n",
    "             metrics=['accuracy'])\n",
    "\n",
    "#训练数据.1000个样本\n",
    "x_train=np.random.random((1000,time_steps,data_dim))\n",
    "y_train=np.random.random((1000,num_classes))\n",
    "\n",
    "#验证数据\n",
    "x_val=np.random.random((100,time_steps,data_dim))\n",
    "y_val=np.random.random((100,num_classes))\n",
    "model.fit(x_train,y_train,\n",
    "          batch_size=64,epochs=5,\n",
    "         validation_data=(x_val,y_val))\n",
    "\n",
    "#测试\n",
    "score=model.evaluate(x_val,y_val,batch_size=64)\n",
    "print(\"Test loss: \",score[0])\n",
    "print(\"Test accuracy: \",score[1])\n"
   ]
  },
  {
   "cell_type": "code",
   "execution_count": null,
   "metadata": {},
   "outputs": [],
   "source": []
  }
 ],
 "metadata": {
  "kernelspec": {
   "display_name": "Python [conda env:python36ForKeras]",
   "language": "python",
   "name": "conda-env-python36ForKeras-py"
  },
  "language_info": {
   "codemirror_mode": {
    "name": "ipython",
    "version": 3
   },
   "file_extension": ".py",
   "mimetype": "text/x-python",
   "name": "python",
   "nbconvert_exporter": "python",
   "pygments_lexer": "ipython3",
   "version": "3.6.9"
  }
 },
 "nbformat": 4,
 "nbformat_minor": 2
}
