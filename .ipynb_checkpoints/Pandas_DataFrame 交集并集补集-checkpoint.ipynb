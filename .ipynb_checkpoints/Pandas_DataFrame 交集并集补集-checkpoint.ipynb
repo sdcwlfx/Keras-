{
 "cells": [
  {
   "cell_type": "code",
   "execution_count": 3,
   "metadata": {},
   "outputs": [
    {
     "name": "stdout",
     "output_type": "stream",
     "text": [
      "df1:\n",
      "  name  age sex\n",
      "0    a   10   男\n",
      "1    b   11   男\n",
      "2    c   11   女\n",
      "3    a   10   女\n",
      "4    c   11   男\n",
      "\n",
      "\n",
      "df2:\n",
      "  name  age sex\n",
      "0    a   10   男\n",
      "1    b   11   女\n",
      "\n",
      "\n",
      "交集:\n",
      "  name  age sex\n",
      "0    a   10   男\n",
      "\n",
      "\n",
      "并集:\n",
      "  name  age sex\n",
      "0    a   10   男\n",
      "1    b   11   男\n",
      "2    c   11   女\n",
      "3    a   10   女\n",
      "4    c   11   男\n",
      "5    b   11   女\n",
      "\n",
      "\n",
      "补集(从df1中过滤df1在df2中存在的行):\n",
      "  name  age sex\n",
      "1    b   11   男\n",
      "2    c   11   女\n",
      "3    a   10   女\n",
      "4    c   11   男\n",
      "\n",
      "\n"
     ]
    }
   ],
   "source": [
    "import pandas as pd\n",
    "from pandas import *\n",
    "\n",
    "df1=DataFrame([['a',10,'男'],\n",
    "               ['b',11,'男'],\n",
    "               ['c',11,'女'],\n",
    "               ['a',10,'女'],\n",
    "               ['c',11,'男']],\n",
    "               columns=['name','age','sex'])\n",
    "print(\"df1:\\n%s\\n\\n\" % df1)\n",
    "\n",
    "df2=DataFrame([['a',10,'男'],\n",
    "               ['b',11,'女']],\n",
    "               columns=['name','age','sex'])\n",
    "print(\"df2:\\n%s\\n\\n\" % df2)\n",
    "\n",
    "#取交集\n",
    "print(\"交集:\\n%s\\n\\n\" % pd.merge(df1,df2,on=['name','age','sex']))\n",
    "\n",
    "#取并集\n",
    "print(\"并集:\\n%s\\n\\n\" % pd.merge(df1,df2,on=['name','age','sex'],how='outer'))\n",
    "\n",
    "#取补集，从df1中过滤df1在df2中存在的行,利用drop_duplicates()去重\n",
    "df1=df1.append(df2)\n",
    "df1=df1.append(df2)\n",
    "print(\"补集(从df1中过滤df1在df2中存在的行):\\n%s\\n\\n\" % df1.drop_duplicates(subset=['name','age','sex'],keep=False))\n"
   ]
  },
  {
   "cell_type": "code",
   "execution_count": null,
   "metadata": {},
   "outputs": [],
   "source": []
  }
 ],
 "metadata": {
  "kernelspec": {
   "display_name": "Python [conda env:python36]",
   "language": "python",
   "name": "conda-env-python36-py"
  },
  "language_info": {
   "codemirror_mode": {
    "name": "ipython",
    "version": 3
   },
   "file_extension": ".py",
   "mimetype": "text/x-python",
   "name": "python",
   "nbconvert_exporter": "python",
   "pygments_lexer": "ipython3",
   "version": "3.6.9"
  }
 },
 "nbformat": 4,
 "nbformat_minor": 2
}
