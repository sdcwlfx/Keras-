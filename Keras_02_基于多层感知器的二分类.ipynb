{
 "cells": [
  {
   "cell_type": "code",
   "execution_count": 3,
   "metadata": {},
   "outputs": [],
   "source": [
    "import numpy as np\n",
    "from keras.models import Sequential\n",
    "from keras.layers import Dense,Dropout\n",
    "\n",
    "'''\n",
    "x_train:1000X20大小的训练集，1000:样本数目，20:每个样本特征数，对应网络输入层特征数\n",
    "y_train:取0或1的1000个标签\n",
    "x_test:测试集，包含100个样本\n",
    "y_test:测试集标签\n",
    "'''\n",
    "x_train=np.random.random((1000,20))\n",
    "y_train=np.random.randint(2,size=(1000,1))\n",
    "x_test=np.random.random((100,20))\n",
    "y_test=np.random.randint(2,size=(100,1))"
   ]
  },
  {
   "cell_type": "code",
   "execution_count": 8,
   "metadata": {},
   "outputs": [
    {
     "name": "stdout",
     "output_type": "stream",
     "text": [
      "Epoch 1/20\n",
      "1000/1000 [==============================] - 0s 498us/step - loss: 0.7050 - acc: 0.4780\n",
      "Epoch 2/20\n",
      "1000/1000 [==============================] - 0s 25us/step - loss: 0.6926 - acc: 0.5040\n",
      "Epoch 3/20\n",
      "1000/1000 [==============================] - 0s 26us/step - loss: 0.6932 - acc: 0.5350\n",
      "Epoch 4/20\n",
      "1000/1000 [==============================] - 0s 24us/step - loss: 0.6912 - acc: 0.5200\n",
      "Epoch 5/20\n",
      "1000/1000 [==============================] - 0s 22us/step - loss: 0.6868 - acc: 0.5480\n",
      "Epoch 6/20\n",
      "1000/1000 [==============================] - 0s 23us/step - loss: 0.6846 - acc: 0.5490\n",
      "Epoch 7/20\n",
      "1000/1000 [==============================] - 0s 27us/step - loss: 0.6830 - acc: 0.5600\n",
      "Epoch 8/20\n",
      "1000/1000 [==============================] - 0s 24us/step - loss: 0.6869 - acc: 0.5440\n",
      "Epoch 9/20\n",
      "1000/1000 [==============================] - 0s 25us/step - loss: 0.6829 - acc: 0.5440\n",
      "Epoch 10/20\n",
      "1000/1000 [==============================] - 0s 26us/step - loss: 0.6792 - acc: 0.5740\n",
      "Epoch 11/20\n",
      "1000/1000 [==============================] - 0s 25us/step - loss: 0.6798 - acc: 0.5630\n",
      "Epoch 12/20\n",
      "1000/1000 [==============================] - 0s 25us/step - loss: 0.6771 - acc: 0.5810\n",
      "Epoch 13/20\n",
      "1000/1000 [==============================] - 0s 26us/step - loss: 0.6783 - acc: 0.5560\n",
      "Epoch 14/20\n",
      "1000/1000 [==============================] - 0s 26us/step - loss: 0.6759 - acc: 0.5390\n",
      "Epoch 15/20\n",
      "1000/1000 [==============================] - 0s 25us/step - loss: 0.6775 - acc: 0.5650\n",
      "Epoch 16/20\n",
      "1000/1000 [==============================] - 0s 26us/step - loss: 0.6747 - acc: 0.5770\n",
      "Epoch 17/20\n",
      "1000/1000 [==============================] - 0s 29us/step - loss: 0.6787 - acc: 0.5640\n",
      "Epoch 18/20\n",
      "1000/1000 [==============================] - 0s 26us/step - loss: 0.6738 - acc: 0.5880\n",
      "Epoch 19/20\n",
      "1000/1000 [==============================] - 0s 26us/step - loss: 0.6686 - acc: 0.5780\n",
      "Epoch 20/20\n",
      "1000/1000 [==============================] - 0s 28us/step - loss: 0.6702 - acc: 0.5810\n",
      "100/100 [==============================] - 0s 2ms/step\n",
      "Test loss:  0.704904317856\n",
      "Test accuracy:  0.5\n"
     ]
    }
   ],
   "source": [
    "'''\n",
    "构建网络模型，包含三个全连接层\n",
    "'''\n",
    "model=Sequential()\n",
    "model.add(Dense(64,activation='relu',input_dim=20))\n",
    "model.add(Dropout(0.1))\n",
    "model.add(Dense(64,activation='relu'))\n",
    "model.add(Dropout(0.1))\n",
    "model.add(Dense(1,activation='sigmoid'))\n",
    "\n",
    "model.compile(loss='binary_crossentropy',\n",
    "             optimizer='rmsprop',\n",
    "             metrics=['accuracy'])\n",
    "\n",
    "model.fit(x_train,y_train,epochs=20,batch_size=128)\n",
    "score=model.evaluate(x_test,y_test,batch_size=128)\n",
    "print(\"Test loss: \",score[0])\n",
    "print(\"Test accuracy: \",score[1])"
   ]
  },
  {
   "cell_type": "code",
   "execution_count": null,
   "metadata": {},
   "outputs": [],
   "source": []
  }
 ],
 "metadata": {
  "kernelspec": {
   "display_name": "Python [conda env:python36ForKeras]",
   "language": "python",
   "name": "conda-env-python36ForKeras-py"
  },
  "language_info": {
   "codemirror_mode": {
    "name": "ipython",
    "version": 3
   },
   "file_extension": ".py",
   "mimetype": "text/x-python",
   "name": "python",
   "nbconvert_exporter": "python",
   "pygments_lexer": "ipython3",
   "version": "3.6.9"
  }
 },
 "nbformat": 4,
 "nbformat_minor": 2
}
