{
 "cells": [
  {
   "cell_type": "code",
   "execution_count": 18,
   "metadata": {},
   "outputs": [],
   "source": [
    "import keras\n",
    "from keras.models import Sequential\n",
    "from keras.layers import Dense,Flatten,Dropout,Activation\n",
    "from keras.optimizers import SGD\n",
    "\n",
    "import numpy as np\n",
    "#生成1000行、20列的(0,1)之间随机值,相当于1000个样本，每个样本在输入端有20个样本特征\n",
    "x_train=np.random.random((1000,20))\n",
    "#生产10x1维矩阵，在[0,10)取值，1000个样本对应1000个标签\n",
    "y_tmp=np.random.randint(10,size=(1000,1))\n",
    "#y_tmp=np.random.randint(10,size=(10,1))\n",
    "#print(y_tmp)\n",
    "# [[2]\n",
    "#  [0]\n",
    "#  [4]\n",
    "#  [3]\n",
    "#  [4]\n",
    "#  [1]\n",
    "#  [0]\n",
    "#  [0]\n",
    "#  [8]\n",
    "#  [4]]\n",
    "\n",
    "#将10个数字one-hot编码(10个类别)，每行对应上述中一个数字\n",
    "y_train=keras.utils.to_categorical(y_tmp,num_classes=10)\n",
    "# print(y_train) \n",
    "# [[ 0.  0.  1.  0.  0.  0.  0.  0.  0.  0.]\n",
    "#  [ 1.  0.  0.  0.  0.  0.  0.  0.  0.  0.]\n",
    "#  [ 0.  0.  0.  0.  1.  0.  0.  0.  0.  0.]\n",
    "#  [ 0.  0.  0.  1.  0.  0.  0.  0.  0.  0.]\n",
    "#  [ 0.  0.  0.  0.  1.  0.  0.  0.  0.  0.]\n",
    "#  [ 0.  1.  0.  0.  0.  0.  0.  0.  0.  0.]\n",
    "#  [ 1.  0.  0.  0.  0.  0.  0.  0.  0.  0.]\n",
    "#  [ 1.  0.  0.  0.  0.  0.  0.  0.  0.  0.]\n",
    "#  [ 0.  0.  0.  0.  0.  0.  0.  0.  1.  0.]\n",
    "#  [ 0.  0.  0.  0.  1.  0.  0.  0.  0.  0.]]\n",
    "\n",
    "\n"
   ]
  },
  {
   "cell_type": "code",
   "execution_count": 19,
   "metadata": {},
   "outputs": [],
   "source": [
    "x_test=np.random.random((100,20))\n",
    "y_test=keras.utils.to_categorical(np.random.randint(10,size=(100,1)),num_classes=10)"
   ]
  },
  {
   "cell_type": "code",
   "execution_count": 22,
   "metadata": {},
   "outputs": [
    {
     "name": "stdout",
     "output_type": "stream",
     "text": [
      "Epoch 1/20\n",
      "1000/1000 [==============================] - 0s 380us/step - loss: 2.3322 - acc: 0.0950\n",
      "Epoch 2/20\n",
      "1000/1000 [==============================] - 0s 25us/step - loss: 2.3200 - acc: 0.1070\n",
      "Epoch 3/20\n",
      "1000/1000 [==============================] - 0s 26us/step - loss: 2.3062 - acc: 0.1150\n",
      "Epoch 4/20\n",
      "1000/1000 [==============================] - 0s 26us/step - loss: 2.2984 - acc: 0.1180\n",
      "Epoch 5/20\n",
      "1000/1000 [==============================] - 0s 27us/step - loss: 2.3059 - acc: 0.1120\n",
      "Epoch 6/20\n",
      "1000/1000 [==============================] - 0s 26us/step - loss: 2.3045 - acc: 0.1120\n",
      "Epoch 7/20\n",
      "1000/1000 [==============================] - 0s 28us/step - loss: 2.3001 - acc: 0.1170\n",
      "Epoch 8/20\n",
      "1000/1000 [==============================] - 0s 27us/step - loss: 2.2996 - acc: 0.1270\n",
      "Epoch 9/20\n",
      "1000/1000 [==============================] - 0s 26us/step - loss: 2.2961 - acc: 0.1160\n",
      "Epoch 10/20\n",
      "1000/1000 [==============================] - 0s 27us/step - loss: 2.2964 - acc: 0.1130\n",
      "Epoch 11/20\n",
      "1000/1000 [==============================] - 0s 28us/step - loss: 2.2918 - acc: 0.1280\n",
      "Epoch 12/20\n",
      "1000/1000 [==============================] - 0s 27us/step - loss: 2.2918 - acc: 0.1140\n",
      "Epoch 13/20\n",
      "1000/1000 [==============================] - 0s 27us/step - loss: 2.2875 - acc: 0.1200\n",
      "Epoch 14/20\n",
      "1000/1000 [==============================] - 0s 25us/step - loss: 2.2884 - acc: 0.1240\n",
      "Epoch 15/20\n",
      "1000/1000 [==============================] - 0s 31us/step - loss: 2.2844 - acc: 0.1220\n",
      "Epoch 16/20\n",
      "1000/1000 [==============================] - 0s 28us/step - loss: 2.2884 - acc: 0.1240\n",
      "Epoch 17/20\n",
      "1000/1000 [==============================] - 0s 24us/step - loss: 2.2823 - acc: 0.1380\n",
      "Epoch 18/20\n",
      "1000/1000 [==============================] - 0s 25us/step - loss: 2.2844 - acc: 0.1320\n",
      "Epoch 19/20\n",
      "1000/1000 [==============================] - 0s 26us/step - loss: 2.2867 - acc: 0.1170\n",
      "Epoch 20/20\n",
      "1000/1000 [==============================] - 0s 28us/step - loss: 2.2791 - acc: 0.1260\n",
      "100/100 [==============================] - 0s 2ms/step\n",
      "Test loss:  2.30983805656\n",
      "Test accuracy:  0.159999996424\n"
     ]
    }
   ],
   "source": [
    "'''\n",
    "构建网络模型\n",
    "'''\n",
    "model=Sequential()\n",
    "#第一层为包含64个隐藏神经元的全连接层，输入数据尺寸为20\n",
    "model.add(Dense(64,activation='relu',input_dim=20))\n",
    "model.add(Dropout(0.1))\n",
    "model.add(Dense(64,activation='relu'))\n",
    "model.add(Dropout(0.1))\n",
    "model.add(Dense(10,activation='softmax'))\n",
    "\n",
    "#损失函数\n",
    "sgd=SGD(lr=0.01,decay=1e-6,momentum=0.9,nesterov=True)\n",
    "model.compile(loss='categorical_crossentropy',\n",
    "             optimizer=sgd,\n",
    "             metrics=['accuracy'])\n",
    "model.fit(x_train,y_train,epochs=20,batch_size=128)\n",
    "score=model.evaluate(x_test,y_test,batch_size=128)\n",
    "print('Test loss: ',score[0])\n",
    "print('Test accuracy: ',score[1])\n"
   ]
  },
  {
   "cell_type": "code",
   "execution_count": null,
   "metadata": {},
   "outputs": [],
   "source": []
  },
  {
   "cell_type": "code",
   "execution_count": null,
   "metadata": {},
   "outputs": [],
   "source": []
  }
 ],
 "metadata": {
  "kernelspec": {
   "display_name": "Python [conda env:python36]",
   "language": "python",
   "name": "conda-env-python36-py"
  },
  "language_info": {
   "codemirror_mode": {
    "name": "ipython",
    "version": 3
   },
   "file_extension": ".py",
   "mimetype": "text/x-python",
   "name": "python",
   "nbconvert_exporter": "python",
   "pygments_lexer": "ipython3",
   "version": "3.6.9"
  }
 },
 "nbformat": 4,
 "nbformat_minor": 2
}
